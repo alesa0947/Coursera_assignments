{
 "cells": [
  {
   "cell_type": "markdown",
   "id": "91bd337d-022f-4780-b3fb-9b05b0b4a6a0",
   "metadata": {},
   "source": [
    "<center>\n",
    "    <img src=\"https://cf-courses-data.s3.us.cloud-object-storage.appdomain.cloud/IBMDeveloperSkillsNetwork-DS0105EN-SkillsNetwork/labs/Module2/images/SN_web_lightmode.png\" width=\"300\" alt=\"cognitiveclass.ai logo\">\n",
    "</center>\n"
   ]
  },
  {
   "cell_type": "markdown",
   "id": "5e308ccb-2269-4766-bb0c-30ab8a8b6c6b",
   "metadata": {},
   "source": [
    "#### Add your code below following the instructions given in the course\n"
   ]
  },
  {
   "cell_type": "markdown",
   "id": "8c627ad3-d870-4646-9b98-668fccc4cd89",
   "metadata": {},
   "source": [
    "Exercise 2: Create markdown cell with title of the notebook.\n",
    "Create a markdown cell with the title Data Science Tools and Ecosystem using H1 style heading."
   ]
  },
  {
   "cell_type": "markdown",
   "id": "8418addf-0813-4b77-9cfb-184c6d5eb45c",
   "metadata": {},
   "source": [
    "# Data Science Tools and Ecosystem"
   ]
  },
  {
   "cell_type": "markdown",
   "id": "b6e4d923-97d8-4379-9cb3-46cb605ff292",
   "metadata": {},
   "source": [
    "Exercise 3 - Create a markdown cell for an introduction\n",
    "\n",
    "Write an introductory sentence about the notebook such as the follows: In this notebook, Data Science Tools and Ecosystem are summarized."
   ]
  },
  {
   "cell_type": "markdown",
   "id": "739034f6-905c-406a-a491-360b049c5bf3",
   "metadata": {},
   "source": [
    "In this notebook, Data Science Tools and Ecosystem are summarized."
   ]
  },
  {
   "cell_type": "markdown",
   "id": "5997fc9a-a35c-472d-bd84-cc0652a12397",
   "metadata": {},
   "source": [
    "Exercise 10 - Insert a markdown cell to list Objectives\n",
    "\n",
    "Below the introduction cell created in Exercise 3, insert a new markdown cell to list the objectives that this notebook covered (i.e. some of the key takeaways from the course). In this new cell start with an introductory line titled: Objectives: in bold font. Then using an unordered list (bullets) indicate 3 to 5 items covered in this notebook, such as List popular languages for Data Science."
   ]
  },
  {
   "cell_type": "markdown",
   "id": "6f93fe21-286b-4900-9226-591b016fe3c4",
   "metadata": {
    "tags": []
   },
   "source": [
    "**Objectives:**\n",
    "- List popular languages for Data Science\n",
    "- List open source development environment tools in Data Science\n",
    "- Create a table of Data Science tools\n",
    "- List data science libraries\n",
    "- Evaluate arithmetic expressions"
   ]
  },
  {
   "cell_type": "markdown",
   "id": "e95cdef7-29df-4c57-8719-88be15a94219",
   "metadata": {},
   "source": [
    "Exercise 4 - Create a markdown cell to list data science languages\n",
    "\n",
    "Start the cell with an overview line such as:\n",
    "\n",
    "Some of the popular languages that Data Scientists use are:\n",
    "Then create an ordered list (i.e. numbered) listing 3 (or more) commonly used languages for data science.\n",
    "Take a screenshot of the markdown cell and name it as 4-dslanguages.png (Images can be saved with either the .jpg or .png extension.)"
   ]
  },
  {
   "cell_type": "markdown",
   "id": "cbcbaa53-c313-40fd-95fd-e6dfe8daf878",
   "metadata": {},
   "source": [
    "Some of the popular languages that Data Scientists use are:\n",
    "1. Python\n",
    "2. R\n",
    "3. SQL\n",
    "4. Julia"
   ]
  },
  {
   "cell_type": "markdown",
   "id": "00caca1a-93a2-4f69-be6c-c3779e8794ee",
   "metadata": {},
   "source": [
    "Exercise 5 - Create a markdown cell to list data science libraries\n",
    "\n",
    "Add an overview line to the cell like:\n",
    "\n",
    "Some of the commonly used libraries used by Data Scientists include:\n",
    "Below this line add an ordered list listing 3 (or more) commonly used libraries in data science."
   ]
  },
  {
   "cell_type": "markdown",
   "id": "01cf4121-2958-4aef-8165-82ccc1e208a9",
   "metadata": {},
   "source": [
    "Some of the commonly used libraries used by Data Scientists include:\n",
    "1. Pandas\n",
    "2. NumPy\n",
    "3. Matplotlib"
   ]
  },
  {
   "cell_type": "markdown",
   "id": "60ca8398-3b32-41e9-beae-19243b276191",
   "metadata": {
    "tags": []
   },
   "source": [
    "Exercise 6 - Create a markdown cell with a table of Data Science tools\n",
    "\n",
    "Create a single column table in this cell with the first row containing the header Data Science Tools. The subsequent three rows in the table should indicate three development environment open source tools used in data science."
   ]
  },
  {
   "cell_type": "markdown",
   "id": "2c6f267d-9226-45ad-9ed0-b4781814870f",
   "metadata": {},
   "source": [
    "|Data Science Tools|\n",
    "|------------------|\n",
    "|Anaconda|\n",
    "|RStudio|\n",
    "|Jupyter Notebook|"
   ]
  },
  {
   "cell_type": "markdown",
   "id": "359ed60d-c304-4774-9ceb-9797b00d2cc9",
   "metadata": {},
   "source": [
    "Exercise 7 - Create a markdown cell introducing arithmetic expression examples\n",
    "\n",
    "Add a line in this cell with H3 style heading with text like:\n",
    "\n",
    "Below are a few examples of evaluating arithmetic expressions in Python."
   ]
  },
  {
   "cell_type": "markdown",
   "id": "635dbfb3-18e5-40c3-a9de-af5ee375b22d",
   "metadata": {},
   "source": [
    "### Below are a few examples of evaluating arithmetic expressions in Python"
   ]
  },
  {
   "cell_type": "markdown",
   "id": "4c48ee45-a012-4bda-bc99-4b388e656b09",
   "metadata": {},
   "source": [
    "Exercise 8 - Create a code cell to multiply and add numbers\n",
    "\n",
    "In this code cell evaluate the expression (3*4)+5.\n",
    "Insert a comment line before the expression to explain the operation e.g. This a simple arithmetic expression to mutiply then add integers.\n",
    "Then execute the cell to ensure the expression returns the expected output of 17."
   ]
  },
  {
   "cell_type": "code",
   "execution_count": 14,
   "id": "7eee08ed-22d7-4fe3-9d85-670f5e5b8fb1",
   "metadata": {
    "tags": []
   },
   "outputs": [
    {
     "data": {
      "text/plain": [
       "17"
      ]
     },
     "execution_count": 14,
     "metadata": {},
     "output_type": "execute_result"
    }
   ],
   "source": [
    "#The following is a simple arithmetic expression to multiply then add integers:\n",
    "(3*4)+5"
   ]
  },
  {
   "cell_type": "markdown",
   "id": "d238d802-f949-42cb-8326-d9b3114d0d90",
   "metadata": {},
   "source": [
    "Exercise 9 - Create a code cell to convert minutes to hours\n",
    "\n",
    "In this code cell write an expression that converts 200 minutes into hours.\n",
    "Insert a comment line before the expression to explain the operation e.g. This will convert 200 minutes to hours by diving by 60.\n",
    "Run the cell to evaluate the expression."
   ]
  },
  {
   "cell_type": "code",
   "execution_count": 15,
   "id": "5960c237-9fe4-4b2c-9d2a-31b4d5f0cb41",
   "metadata": {
    "tags": []
   },
   "outputs": [
    {
     "data": {
      "text/plain": [
       "3.3333333333333335"
      ]
     },
     "execution_count": 15,
     "metadata": {},
     "output_type": "execute_result"
    }
   ],
   "source": [
    "#The following operation will convert 200 minutes to hours, by dividing by 60:\n",
    "200/60 #the unit is hours"
   ]
  },
  {
   "cell_type": "markdown",
   "id": "ac87c2f0-c7aa-4b45-89ab-74d4afdf9230",
   "metadata": {},
   "source": [
    "Please go to the top of the notebook to find Ex 10."
   ]
  },
  {
   "cell_type": "markdown",
   "id": "e95e4ed2-30ed-4165-9da2-071145e7687b",
   "metadata": {},
   "source": [
    "Exercise 11 - Create a markdown cell to indicate the Author's name\n",
    "\n",
    "In this markdown cell include the following text Author in H2 style heading. Include your name as regular text below the word Author."
   ]
  },
  {
   "cell_type": "markdown",
   "id": "e0326cad-47e2-4b25-88f3-2e151edb3675",
   "metadata": {},
   "source": [
    "## Author:\n",
    "Alessa Wiggins"
   ]
  },
  {
   "cell_type": "code",
   "execution_count": null,
   "id": "0be23ee2-697e-4f37-bfa3-9c579952d110",
   "metadata": {},
   "outputs": [],
   "source": []
  }
 ],
 "metadata": {
  "kernelspec": {
   "display_name": "Python",
   "language": "python",
   "name": "conda-env-python-py"
  },
  "language_info": {
   "codemirror_mode": {
    "name": "ipython",
    "version": 3
   },
   "file_extension": ".py",
   "mimetype": "text/x-python",
   "name": "python",
   "nbconvert_exporter": "python",
   "pygments_lexer": "ipython3",
   "version": "3.7.12"
  }
 },
 "nbformat": 4,
 "nbformat_minor": 5
}
